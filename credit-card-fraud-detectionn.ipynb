{
 "cells": [
  {
   "cell_type": "code",
   "execution_count": 1,
   "id": "1ea9c072",
   "metadata": {
    "_cell_guid": "b1076dfc-b9ad-4769-8c92-a6c4dae69d19",
    "_uuid": "8f2839f25d086af736a60e9eeb907d3b93b6e0e5",
    "execution": {
     "iopub.execute_input": "2025-07-08T04:12:38.411360Z",
     "iopub.status.busy": "2025-07-08T04:12:38.410581Z",
     "iopub.status.idle": "2025-07-08T04:12:40.272003Z",
     "shell.execute_reply": "2025-07-08T04:12:40.270840Z"
    },
    "papermill": {
     "duration": 1.870007,
     "end_time": "2025-07-08T04:12:40.273642",
     "exception": false,
     "start_time": "2025-07-08T04:12:38.403635",
     "status": "completed"
    },
    "tags": []
   },
   "outputs": [
    {
     "name": "stdout",
     "output_type": "stream",
     "text": [
      "/kaggle/input/creditcardfraud/creditcard.csv\n"
     ]
    }
   ],
   "source": [
    "# This Python 3 environment comes with many helpful analytics libraries installed\n",
    "# It is defined by the kaggle/python Docker image: https://github.com/kaggle/docker-python\n",
    "# For example, here's several helpful packages to load\n",
    "\n",
    "import numpy as np # linear algebra\n",
    "import pandas as pd # data processing, CSV file I/O (e.g. pd.read_csv)\n",
    "\n",
    "# Input data files are available in the read-only \"../input/\" directory\n",
    "# For example, running this (by clicking run or pressing Shift+Enter) will list all files under the input directory\n",
    "\n",
    "import os\n",
    "for dirname, _, filenames in os.walk('/kaggle/input'):\n",
    "    for filename in filenames:\n",
    "        print(os.path.join(dirname, filename))\n",
    "\n",
    "# You can write up to 20GB to the current directory (/kaggle/working/) that gets preserved as output when you create a version using \"Save & Run All\" \n",
    "# You can also write temporary files to /kaggle/temp/, but they won't be saved outside of the current session"
   ]
  },
  {
   "cell_type": "code",
   "execution_count": 2,
   "id": "537514a3",
   "metadata": {
    "execution": {
     "iopub.execute_input": "2025-07-08T04:12:40.284923Z",
     "iopub.status.busy": "2025-07-08T04:12:40.284513Z",
     "iopub.status.idle": "2025-07-08T04:12:41.894418Z",
     "shell.execute_reply": "2025-07-08T04:12:41.893537Z"
    },
    "papermill": {
     "duration": 1.617275,
     "end_time": "2025-07-08T04:12:41.895936",
     "exception": false,
     "start_time": "2025-07-08T04:12:40.278661",
     "status": "completed"
    },
    "tags": []
   },
   "outputs": [],
   "source": [
    "import pandas as pd\n",
    "import numpy as np\n",
    "from sklearn.model_selection import train_test_split\n",
    "from sklearn.metrics import accuracy_score, confusion_matrix, classification_report\n",
    "from sklearn.linear_model import LogisticRegression"
   ]
  },
  {
   "cell_type": "code",
   "execution_count": 3,
   "id": "28fcef3a",
   "metadata": {
    "execution": {
     "iopub.execute_input": "2025-07-08T04:12:41.907045Z",
     "iopub.status.busy": "2025-07-08T04:12:41.906237Z",
     "iopub.status.idle": "2025-07-08T04:12:45.641460Z",
     "shell.execute_reply": "2025-07-08T04:12:45.640574Z"
    },
    "papermill": {
     "duration": 3.74201,
     "end_time": "2025-07-08T04:12:45.642699",
     "exception": false,
     "start_time": "2025-07-08T04:12:41.900689",
     "status": "completed"
    },
    "tags": []
   },
   "outputs": [
    {
     "data": {
      "text/html": [
       "<div>\n",
       "<style scoped>\n",
       "    .dataframe tbody tr th:only-of-type {\n",
       "        vertical-align: middle;\n",
       "    }\n",
       "\n",
       "    .dataframe tbody tr th {\n",
       "        vertical-align: top;\n",
       "    }\n",
       "\n",
       "    .dataframe thead th {\n",
       "        text-align: right;\n",
       "    }\n",
       "</style>\n",
       "<table border=\"1\" class=\"dataframe\">\n",
       "  <thead>\n",
       "    <tr style=\"text-align: right;\">\n",
       "      <th></th>\n",
       "      <th>Time</th>\n",
       "      <th>V1</th>\n",
       "      <th>V2</th>\n",
       "      <th>V3</th>\n",
       "      <th>V4</th>\n",
       "      <th>V5</th>\n",
       "      <th>V6</th>\n",
       "      <th>V7</th>\n",
       "      <th>V8</th>\n",
       "      <th>V9</th>\n",
       "      <th>...</th>\n",
       "      <th>V21</th>\n",
       "      <th>V22</th>\n",
       "      <th>V23</th>\n",
       "      <th>V24</th>\n",
       "      <th>V25</th>\n",
       "      <th>V26</th>\n",
       "      <th>V27</th>\n",
       "      <th>V28</th>\n",
       "      <th>Amount</th>\n",
       "      <th>Class</th>\n",
       "    </tr>\n",
       "  </thead>\n",
       "  <tbody>\n",
       "    <tr>\n",
       "      <th>0</th>\n",
       "      <td>0.0</td>\n",
       "      <td>-1.359807</td>\n",
       "      <td>-0.072781</td>\n",
       "      <td>2.536347</td>\n",
       "      <td>1.378155</td>\n",
       "      <td>-0.338321</td>\n",
       "      <td>0.462388</td>\n",
       "      <td>0.239599</td>\n",
       "      <td>0.098698</td>\n",
       "      <td>0.363787</td>\n",
       "      <td>...</td>\n",
       "      <td>-0.018307</td>\n",
       "      <td>0.277838</td>\n",
       "      <td>-0.110474</td>\n",
       "      <td>0.066928</td>\n",
       "      <td>0.128539</td>\n",
       "      <td>-0.189115</td>\n",
       "      <td>0.133558</td>\n",
       "      <td>-0.021053</td>\n",
       "      <td>149.62</td>\n",
       "      <td>0</td>\n",
       "    </tr>\n",
       "    <tr>\n",
       "      <th>1</th>\n",
       "      <td>0.0</td>\n",
       "      <td>1.191857</td>\n",
       "      <td>0.266151</td>\n",
       "      <td>0.166480</td>\n",
       "      <td>0.448154</td>\n",
       "      <td>0.060018</td>\n",
       "      <td>-0.082361</td>\n",
       "      <td>-0.078803</td>\n",
       "      <td>0.085102</td>\n",
       "      <td>-0.255425</td>\n",
       "      <td>...</td>\n",
       "      <td>-0.225775</td>\n",
       "      <td>-0.638672</td>\n",
       "      <td>0.101288</td>\n",
       "      <td>-0.339846</td>\n",
       "      <td>0.167170</td>\n",
       "      <td>0.125895</td>\n",
       "      <td>-0.008983</td>\n",
       "      <td>0.014724</td>\n",
       "      <td>2.69</td>\n",
       "      <td>0</td>\n",
       "    </tr>\n",
       "    <tr>\n",
       "      <th>2</th>\n",
       "      <td>1.0</td>\n",
       "      <td>-1.358354</td>\n",
       "      <td>-1.340163</td>\n",
       "      <td>1.773209</td>\n",
       "      <td>0.379780</td>\n",
       "      <td>-0.503198</td>\n",
       "      <td>1.800499</td>\n",
       "      <td>0.791461</td>\n",
       "      <td>0.247676</td>\n",
       "      <td>-1.514654</td>\n",
       "      <td>...</td>\n",
       "      <td>0.247998</td>\n",
       "      <td>0.771679</td>\n",
       "      <td>0.909412</td>\n",
       "      <td>-0.689281</td>\n",
       "      <td>-0.327642</td>\n",
       "      <td>-0.139097</td>\n",
       "      <td>-0.055353</td>\n",
       "      <td>-0.059752</td>\n",
       "      <td>378.66</td>\n",
       "      <td>0</td>\n",
       "    </tr>\n",
       "    <tr>\n",
       "      <th>3</th>\n",
       "      <td>1.0</td>\n",
       "      <td>-0.966272</td>\n",
       "      <td>-0.185226</td>\n",
       "      <td>1.792993</td>\n",
       "      <td>-0.863291</td>\n",
       "      <td>-0.010309</td>\n",
       "      <td>1.247203</td>\n",
       "      <td>0.237609</td>\n",
       "      <td>0.377436</td>\n",
       "      <td>-1.387024</td>\n",
       "      <td>...</td>\n",
       "      <td>-0.108300</td>\n",
       "      <td>0.005274</td>\n",
       "      <td>-0.190321</td>\n",
       "      <td>-1.175575</td>\n",
       "      <td>0.647376</td>\n",
       "      <td>-0.221929</td>\n",
       "      <td>0.062723</td>\n",
       "      <td>0.061458</td>\n",
       "      <td>123.50</td>\n",
       "      <td>0</td>\n",
       "    </tr>\n",
       "    <tr>\n",
       "      <th>4</th>\n",
       "      <td>2.0</td>\n",
       "      <td>-1.158233</td>\n",
       "      <td>0.877737</td>\n",
       "      <td>1.548718</td>\n",
       "      <td>0.403034</td>\n",
       "      <td>-0.407193</td>\n",
       "      <td>0.095921</td>\n",
       "      <td>0.592941</td>\n",
       "      <td>-0.270533</td>\n",
       "      <td>0.817739</td>\n",
       "      <td>...</td>\n",
       "      <td>-0.009431</td>\n",
       "      <td>0.798278</td>\n",
       "      <td>-0.137458</td>\n",
       "      <td>0.141267</td>\n",
       "      <td>-0.206010</td>\n",
       "      <td>0.502292</td>\n",
       "      <td>0.219422</td>\n",
       "      <td>0.215153</td>\n",
       "      <td>69.99</td>\n",
       "      <td>0</td>\n",
       "    </tr>\n",
       "  </tbody>\n",
       "</table>\n",
       "<p>5 rows × 31 columns</p>\n",
       "</div>"
      ],
      "text/plain": [
       "   Time        V1        V2        V3        V4        V5        V6        V7  \\\n",
       "0   0.0 -1.359807 -0.072781  2.536347  1.378155 -0.338321  0.462388  0.239599   \n",
       "1   0.0  1.191857  0.266151  0.166480  0.448154  0.060018 -0.082361 -0.078803   \n",
       "2   1.0 -1.358354 -1.340163  1.773209  0.379780 -0.503198  1.800499  0.791461   \n",
       "3   1.0 -0.966272 -0.185226  1.792993 -0.863291 -0.010309  1.247203  0.237609   \n",
       "4   2.0 -1.158233  0.877737  1.548718  0.403034 -0.407193  0.095921  0.592941   \n",
       "\n",
       "         V8        V9  ...       V21       V22       V23       V24       V25  \\\n",
       "0  0.098698  0.363787  ... -0.018307  0.277838 -0.110474  0.066928  0.128539   \n",
       "1  0.085102 -0.255425  ... -0.225775 -0.638672  0.101288 -0.339846  0.167170   \n",
       "2  0.247676 -1.514654  ...  0.247998  0.771679  0.909412 -0.689281 -0.327642   \n",
       "3  0.377436 -1.387024  ... -0.108300  0.005274 -0.190321 -1.175575  0.647376   \n",
       "4 -0.270533  0.817739  ... -0.009431  0.798278 -0.137458  0.141267 -0.206010   \n",
       "\n",
       "        V26       V27       V28  Amount  Class  \n",
       "0 -0.189115  0.133558 -0.021053  149.62      0  \n",
       "1  0.125895 -0.008983  0.014724    2.69      0  \n",
       "2 -0.139097 -0.055353 -0.059752  378.66      0  \n",
       "3 -0.221929  0.062723  0.061458  123.50      0  \n",
       "4  0.502292  0.219422  0.215153   69.99      0  \n",
       "\n",
       "[5 rows x 31 columns]"
      ]
     },
     "execution_count": 3,
     "metadata": {},
     "output_type": "execute_result"
    }
   ],
   "source": [
    "df=pd.read_csv(\"/kaggle/input/creditcardfraud/creditcard.csv\")\n",
    "df.head()"
   ]
  },
  {
   "cell_type": "code",
   "execution_count": 4,
   "id": "8adcc803",
   "metadata": {
    "execution": {
     "iopub.execute_input": "2025-07-08T04:12:45.653892Z",
     "iopub.status.busy": "2025-07-08T04:12:45.653592Z",
     "iopub.status.idle": "2025-07-08T04:12:45.695546Z",
     "shell.execute_reply": "2025-07-08T04:12:45.694760Z"
    },
    "papermill": {
     "duration": 0.049235,
     "end_time": "2025-07-08T04:12:45.696893",
     "exception": false,
     "start_time": "2025-07-08T04:12:45.647658",
     "status": "completed"
    },
    "tags": []
   },
   "outputs": [
    {
     "data": {
      "text/plain": [
       "0"
      ]
     },
     "execution_count": 4,
     "metadata": {},
     "output_type": "execute_result"
    }
   ],
   "source": [
    "df.isnull().sum().sum()\n"
   ]
  },
  {
   "cell_type": "code",
   "execution_count": 5,
   "id": "45a76fe8",
   "metadata": {
    "execution": {
     "iopub.execute_input": "2025-07-08T04:12:45.708466Z",
     "iopub.status.busy": "2025-07-08T04:12:45.707840Z",
     "iopub.status.idle": "2025-07-08T04:12:45.712805Z",
     "shell.execute_reply": "2025-07-08T04:12:45.712184Z"
    },
    "papermill": {
     "duration": 0.012114,
     "end_time": "2025-07-08T04:12:45.714189",
     "exception": false,
     "start_time": "2025-07-08T04:12:45.702075",
     "status": "completed"
    },
    "tags": []
   },
   "outputs": [
    {
     "data": {
      "text/plain": [
       "(284807, 31)"
      ]
     },
     "execution_count": 5,
     "metadata": {},
     "output_type": "execute_result"
    }
   ],
   "source": [
    "df.shape"
   ]
  },
  {
   "cell_type": "code",
   "execution_count": 6,
   "id": "194b56be",
   "metadata": {
    "execution": {
     "iopub.execute_input": "2025-07-08T04:12:45.725494Z",
     "iopub.status.busy": "2025-07-08T04:12:45.725231Z",
     "iopub.status.idle": "2025-07-08T04:12:45.738146Z",
     "shell.execute_reply": "2025-07-08T04:12:45.737442Z"
    },
    "papermill": {
     "duration": 0.020175,
     "end_time": "2025-07-08T04:12:45.739494",
     "exception": false,
     "start_time": "2025-07-08T04:12:45.719319",
     "status": "completed"
    },
    "tags": []
   },
   "outputs": [
    {
     "data": {
      "text/plain": [
       "Class\n",
       "0    284315\n",
       "1       492\n",
       "Name: count, dtype: int64"
      ]
     },
     "execution_count": 6,
     "metadata": {},
     "output_type": "execute_result"
    }
   ],
   "source": [
    "df['Class'].value_counts()"
   ]
  },
  {
   "cell_type": "code",
   "execution_count": 7,
   "id": "f9bc87cc",
   "metadata": {
    "execution": {
     "iopub.execute_input": "2025-07-08T04:12:45.750784Z",
     "iopub.status.busy": "2025-07-08T04:12:45.750510Z",
     "iopub.status.idle": "2025-07-08T04:12:45.769284Z",
     "shell.execute_reply": "2025-07-08T04:12:45.768331Z"
    },
    "papermill": {
     "duration": 0.025905,
     "end_time": "2025-07-08T04:12:45.770584",
     "exception": false,
     "start_time": "2025-07-08T04:12:45.744679",
     "status": "completed"
    },
    "tags": []
   },
   "outputs": [
    {
     "data": {
      "text/html": [
       "<div>\n",
       "<style scoped>\n",
       "    .dataframe tbody tr th:only-of-type {\n",
       "        vertical-align: middle;\n",
       "    }\n",
       "\n",
       "    .dataframe tbody tr th {\n",
       "        vertical-align: top;\n",
       "    }\n",
       "\n",
       "    .dataframe thead th {\n",
       "        text-align: right;\n",
       "    }\n",
       "</style>\n",
       "<table border=\"1\" class=\"dataframe\">\n",
       "  <thead>\n",
       "    <tr style=\"text-align: right;\">\n",
       "      <th></th>\n",
       "      <th>Time</th>\n",
       "      <th>V1</th>\n",
       "      <th>V2</th>\n",
       "      <th>V3</th>\n",
       "      <th>V4</th>\n",
       "      <th>V5</th>\n",
       "      <th>V6</th>\n",
       "      <th>V7</th>\n",
       "      <th>V8</th>\n",
       "      <th>V9</th>\n",
       "      <th>...</th>\n",
       "      <th>V21</th>\n",
       "      <th>V22</th>\n",
       "      <th>V23</th>\n",
       "      <th>V24</th>\n",
       "      <th>V25</th>\n",
       "      <th>V26</th>\n",
       "      <th>V27</th>\n",
       "      <th>V28</th>\n",
       "      <th>Amount</th>\n",
       "      <th>Class</th>\n",
       "    </tr>\n",
       "  </thead>\n",
       "  <tbody>\n",
       "    <tr>\n",
       "      <th>284802</th>\n",
       "      <td>172786.0</td>\n",
       "      <td>-11.881118</td>\n",
       "      <td>10.071785</td>\n",
       "      <td>-9.834783</td>\n",
       "      <td>-2.066656</td>\n",
       "      <td>-5.364473</td>\n",
       "      <td>-2.606837</td>\n",
       "      <td>-4.918215</td>\n",
       "      <td>7.305334</td>\n",
       "      <td>1.914428</td>\n",
       "      <td>...</td>\n",
       "      <td>0.213454</td>\n",
       "      <td>0.111864</td>\n",
       "      <td>1.014480</td>\n",
       "      <td>-0.509348</td>\n",
       "      <td>1.436807</td>\n",
       "      <td>0.250034</td>\n",
       "      <td>0.943651</td>\n",
       "      <td>0.823731</td>\n",
       "      <td>0.77</td>\n",
       "      <td>0</td>\n",
       "    </tr>\n",
       "    <tr>\n",
       "      <th>284803</th>\n",
       "      <td>172787.0</td>\n",
       "      <td>-0.732789</td>\n",
       "      <td>-0.055080</td>\n",
       "      <td>2.035030</td>\n",
       "      <td>-0.738589</td>\n",
       "      <td>0.868229</td>\n",
       "      <td>1.058415</td>\n",
       "      <td>0.024330</td>\n",
       "      <td>0.294869</td>\n",
       "      <td>0.584800</td>\n",
       "      <td>...</td>\n",
       "      <td>0.214205</td>\n",
       "      <td>0.924384</td>\n",
       "      <td>0.012463</td>\n",
       "      <td>-1.016226</td>\n",
       "      <td>-0.606624</td>\n",
       "      <td>-0.395255</td>\n",
       "      <td>0.068472</td>\n",
       "      <td>-0.053527</td>\n",
       "      <td>24.79</td>\n",
       "      <td>0</td>\n",
       "    </tr>\n",
       "    <tr>\n",
       "      <th>284804</th>\n",
       "      <td>172788.0</td>\n",
       "      <td>1.919565</td>\n",
       "      <td>-0.301254</td>\n",
       "      <td>-3.249640</td>\n",
       "      <td>-0.557828</td>\n",
       "      <td>2.630515</td>\n",
       "      <td>3.031260</td>\n",
       "      <td>-0.296827</td>\n",
       "      <td>0.708417</td>\n",
       "      <td>0.432454</td>\n",
       "      <td>...</td>\n",
       "      <td>0.232045</td>\n",
       "      <td>0.578229</td>\n",
       "      <td>-0.037501</td>\n",
       "      <td>0.640134</td>\n",
       "      <td>0.265745</td>\n",
       "      <td>-0.087371</td>\n",
       "      <td>0.004455</td>\n",
       "      <td>-0.026561</td>\n",
       "      <td>67.88</td>\n",
       "      <td>0</td>\n",
       "    </tr>\n",
       "    <tr>\n",
       "      <th>284805</th>\n",
       "      <td>172788.0</td>\n",
       "      <td>-0.240440</td>\n",
       "      <td>0.530483</td>\n",
       "      <td>0.702510</td>\n",
       "      <td>0.689799</td>\n",
       "      <td>-0.377961</td>\n",
       "      <td>0.623708</td>\n",
       "      <td>-0.686180</td>\n",
       "      <td>0.679145</td>\n",
       "      <td>0.392087</td>\n",
       "      <td>...</td>\n",
       "      <td>0.265245</td>\n",
       "      <td>0.800049</td>\n",
       "      <td>-0.163298</td>\n",
       "      <td>0.123205</td>\n",
       "      <td>-0.569159</td>\n",
       "      <td>0.546668</td>\n",
       "      <td>0.108821</td>\n",
       "      <td>0.104533</td>\n",
       "      <td>10.00</td>\n",
       "      <td>0</td>\n",
       "    </tr>\n",
       "    <tr>\n",
       "      <th>284806</th>\n",
       "      <td>172792.0</td>\n",
       "      <td>-0.533413</td>\n",
       "      <td>-0.189733</td>\n",
       "      <td>0.703337</td>\n",
       "      <td>-0.506271</td>\n",
       "      <td>-0.012546</td>\n",
       "      <td>-0.649617</td>\n",
       "      <td>1.577006</td>\n",
       "      <td>-0.414650</td>\n",
       "      <td>0.486180</td>\n",
       "      <td>...</td>\n",
       "      <td>0.261057</td>\n",
       "      <td>0.643078</td>\n",
       "      <td>0.376777</td>\n",
       "      <td>0.008797</td>\n",
       "      <td>-0.473649</td>\n",
       "      <td>-0.818267</td>\n",
       "      <td>-0.002415</td>\n",
       "      <td>0.013649</td>\n",
       "      <td>217.00</td>\n",
       "      <td>0</td>\n",
       "    </tr>\n",
       "  </tbody>\n",
       "</table>\n",
       "<p>5 rows × 31 columns</p>\n",
       "</div>"
      ],
      "text/plain": [
       "            Time         V1         V2        V3        V4        V5  \\\n",
       "284802  172786.0 -11.881118  10.071785 -9.834783 -2.066656 -5.364473   \n",
       "284803  172787.0  -0.732789  -0.055080  2.035030 -0.738589  0.868229   \n",
       "284804  172788.0   1.919565  -0.301254 -3.249640 -0.557828  2.630515   \n",
       "284805  172788.0  -0.240440   0.530483  0.702510  0.689799 -0.377961   \n",
       "284806  172792.0  -0.533413  -0.189733  0.703337 -0.506271 -0.012546   \n",
       "\n",
       "              V6        V7        V8        V9  ...       V21       V22  \\\n",
       "284802 -2.606837 -4.918215  7.305334  1.914428  ...  0.213454  0.111864   \n",
       "284803  1.058415  0.024330  0.294869  0.584800  ...  0.214205  0.924384   \n",
       "284804  3.031260 -0.296827  0.708417  0.432454  ...  0.232045  0.578229   \n",
       "284805  0.623708 -0.686180  0.679145  0.392087  ...  0.265245  0.800049   \n",
       "284806 -0.649617  1.577006 -0.414650  0.486180  ...  0.261057  0.643078   \n",
       "\n",
       "             V23       V24       V25       V26       V27       V28  Amount  \\\n",
       "284802  1.014480 -0.509348  1.436807  0.250034  0.943651  0.823731    0.77   \n",
       "284803  0.012463 -1.016226 -0.606624 -0.395255  0.068472 -0.053527   24.79   \n",
       "284804 -0.037501  0.640134  0.265745 -0.087371  0.004455 -0.026561   67.88   \n",
       "284805 -0.163298  0.123205 -0.569159  0.546668  0.108821  0.104533   10.00   \n",
       "284806  0.376777  0.008797 -0.473649 -0.818267 -0.002415  0.013649  217.00   \n",
       "\n",
       "        Class  \n",
       "284802      0  \n",
       "284803      0  \n",
       "284804      0  \n",
       "284805      0  \n",
       "284806      0  \n",
       "\n",
       "[5 rows x 31 columns]"
      ]
     },
     "execution_count": 7,
     "metadata": {},
     "output_type": "execute_result"
    }
   ],
   "source": [
    "df.tail()"
   ]
  },
  {
   "cell_type": "code",
   "execution_count": 8,
   "id": "99221f09",
   "metadata": {
    "execution": {
     "iopub.execute_input": "2025-07-08T04:12:45.782708Z",
     "iopub.status.busy": "2025-07-08T04:12:45.782359Z",
     "iopub.status.idle": "2025-07-08T04:12:45.843108Z",
     "shell.execute_reply": "2025-07-08T04:12:45.842118Z"
    },
    "papermill": {
     "duration": 0.068537,
     "end_time": "2025-07-08T04:12:45.844634",
     "exception": false,
     "start_time": "2025-07-08T04:12:45.776097",
     "status": "completed"
    },
    "tags": []
   },
   "outputs": [
    {
     "name": "stdout",
     "output_type": "stream",
     "text": [
      "<class 'pandas.core.frame.DataFrame'>\n",
      "RangeIndex: 284807 entries, 0 to 284806\n",
      "Data columns (total 31 columns):\n",
      " #   Column  Non-Null Count   Dtype  \n",
      "---  ------  --------------   -----  \n",
      " 0   Time    284807 non-null  float64\n",
      " 1   V1      284807 non-null  float64\n",
      " 2   V2      284807 non-null  float64\n",
      " 3   V3      284807 non-null  float64\n",
      " 4   V4      284807 non-null  float64\n",
      " 5   V5      284807 non-null  float64\n",
      " 6   V6      284807 non-null  float64\n",
      " 7   V7      284807 non-null  float64\n",
      " 8   V8      284807 non-null  float64\n",
      " 9   V9      284807 non-null  float64\n",
      " 10  V10     284807 non-null  float64\n",
      " 11  V11     284807 non-null  float64\n",
      " 12  V12     284807 non-null  float64\n",
      " 13  V13     284807 non-null  float64\n",
      " 14  V14     284807 non-null  float64\n",
      " 15  V15     284807 non-null  float64\n",
      " 16  V16     284807 non-null  float64\n",
      " 17  V17     284807 non-null  float64\n",
      " 18  V18     284807 non-null  float64\n",
      " 19  V19     284807 non-null  float64\n",
      " 20  V20     284807 non-null  float64\n",
      " 21  V21     284807 non-null  float64\n",
      " 22  V22     284807 non-null  float64\n",
      " 23  V23     284807 non-null  float64\n",
      " 24  V24     284807 non-null  float64\n",
      " 25  V25     284807 non-null  float64\n",
      " 26  V26     284807 non-null  float64\n",
      " 27  V27     284807 non-null  float64\n",
      " 28  V28     284807 non-null  float64\n",
      " 29  Amount  284807 non-null  float64\n",
      " 30  Class   284807 non-null  int64  \n",
      "dtypes: float64(30), int64(1)\n",
      "memory usage: 67.4 MB\n"
     ]
    }
   ],
   "source": [
    "df.info()"
   ]
  },
  {
   "cell_type": "code",
   "execution_count": 9,
   "id": "57b0fba7",
   "metadata": {
    "execution": {
     "iopub.execute_input": "2025-07-08T04:12:45.856931Z",
     "iopub.status.busy": "2025-07-08T04:12:45.856332Z",
     "iopub.status.idle": "2025-07-08T04:12:45.902725Z",
     "shell.execute_reply": "2025-07-08T04:12:45.901886Z"
    },
    "papermill": {
     "duration": 0.054164,
     "end_time": "2025-07-08T04:12:45.904318",
     "exception": false,
     "start_time": "2025-07-08T04:12:45.850154",
     "status": "completed"
    },
    "tags": []
   },
   "outputs": [],
   "source": [
    "legit=df[df.Class==0]\n",
    "fraud=df[df.Class==1]"
   ]
  },
  {
   "cell_type": "code",
   "execution_count": 10,
   "id": "b03c1576",
   "metadata": {
    "execution": {
     "iopub.execute_input": "2025-07-08T04:12:45.916927Z",
     "iopub.status.busy": "2025-07-08T04:12:45.916628Z",
     "iopub.status.idle": "2025-07-08T04:12:45.921608Z",
     "shell.execute_reply": "2025-07-08T04:12:45.920741Z"
    },
    "papermill": {
     "duration": 0.012764,
     "end_time": "2025-07-08T04:12:45.923096",
     "exception": false,
     "start_time": "2025-07-08T04:12:45.910332",
     "status": "completed"
    },
    "tags": []
   },
   "outputs": [
    {
     "name": "stdout",
     "output_type": "stream",
     "text": [
      "(284315, 31)\n",
      "(492, 31)\n"
     ]
    }
   ],
   "source": [
    "print(legit.shape)\n",
    "print(fraud.shape)"
   ]
  },
  {
   "cell_type": "markdown",
   "id": "5cae6ffc",
   "metadata": {
    "papermill": {
     "duration": 0.005634,
     "end_time": "2025-07-08T04:12:45.934735",
     "exception": false,
     "start_time": "2025-07-08T04:12:45.929101",
     "status": "completed"
    },
    "tags": []
   },
   "source": [
    "#### statistical measures for the data"
   ]
  },
  {
   "cell_type": "code",
   "execution_count": 11,
   "id": "66861eb6",
   "metadata": {
    "execution": {
     "iopub.execute_input": "2025-07-08T04:12:45.947371Z",
     "iopub.status.busy": "2025-07-08T04:12:45.946766Z",
     "iopub.status.idle": "2025-07-08T04:12:45.969147Z",
     "shell.execute_reply": "2025-07-08T04:12:45.968319Z"
    },
    "papermill": {
     "duration": 0.030068,
     "end_time": "2025-07-08T04:12:45.970546",
     "exception": false,
     "start_time": "2025-07-08T04:12:45.940478",
     "status": "completed"
    },
    "tags": []
   },
   "outputs": [
    {
     "data": {
      "text/plain": [
       "count    284315.000000\n",
       "mean         88.291022\n",
       "std         250.105092\n",
       "min           0.000000\n",
       "25%           5.650000\n",
       "50%          22.000000\n",
       "75%          77.050000\n",
       "max       25691.160000\n",
       "Name: Amount, dtype: float64"
      ]
     },
     "execution_count": 11,
     "metadata": {},
     "output_type": "execute_result"
    }
   ],
   "source": [
    "legit.Amount.describe()\n"
   ]
  },
  {
   "cell_type": "code",
   "execution_count": 12,
   "id": "13344ca4",
   "metadata": {
    "execution": {
     "iopub.execute_input": "2025-07-08T04:12:45.982644Z",
     "iopub.status.busy": "2025-07-08T04:12:45.982353Z",
     "iopub.status.idle": "2025-07-08T04:12:45.991376Z",
     "shell.execute_reply": "2025-07-08T04:12:45.990474Z"
    },
    "papermill": {
     "duration": 0.01659,
     "end_time": "2025-07-08T04:12:45.992743",
     "exception": false,
     "start_time": "2025-07-08T04:12:45.976153",
     "status": "completed"
    },
    "tags": []
   },
   "outputs": [
    {
     "data": {
      "text/plain": [
       "count     492.000000\n",
       "mean      122.211321\n",
       "std       256.683288\n",
       "min         0.000000\n",
       "25%         1.000000\n",
       "50%         9.250000\n",
       "75%       105.890000\n",
       "max      2125.870000\n",
       "Name: Amount, dtype: float64"
      ]
     },
     "execution_count": 12,
     "metadata": {},
     "output_type": "execute_result"
    }
   ],
   "source": [
    "fraud.Amount.describe()"
   ]
  },
  {
   "cell_type": "code",
   "execution_count": 13,
   "id": "0f248b8d",
   "metadata": {
    "execution": {
     "iopub.execute_input": "2025-07-08T04:12:46.005063Z",
     "iopub.status.busy": "2025-07-08T04:12:46.004720Z",
     "iopub.status.idle": "2025-07-08T04:12:46.136842Z",
     "shell.execute_reply": "2025-07-08T04:12:46.136047Z"
    },
    "papermill": {
     "duration": 0.140085,
     "end_time": "2025-07-08T04:12:46.138321",
     "exception": false,
     "start_time": "2025-07-08T04:12:45.998236",
     "status": "completed"
    },
    "tags": []
   },
   "outputs": [
    {
     "data": {
      "text/html": [
       "<div>\n",
       "<style scoped>\n",
       "    .dataframe tbody tr th:only-of-type {\n",
       "        vertical-align: middle;\n",
       "    }\n",
       "\n",
       "    .dataframe tbody tr th {\n",
       "        vertical-align: top;\n",
       "    }\n",
       "\n",
       "    .dataframe thead th {\n",
       "        text-align: right;\n",
       "    }\n",
       "</style>\n",
       "<table border=\"1\" class=\"dataframe\">\n",
       "  <thead>\n",
       "    <tr style=\"text-align: right;\">\n",
       "      <th></th>\n",
       "      <th>Time</th>\n",
       "      <th>V1</th>\n",
       "      <th>V2</th>\n",
       "      <th>V3</th>\n",
       "      <th>V4</th>\n",
       "      <th>V5</th>\n",
       "      <th>V6</th>\n",
       "      <th>V7</th>\n",
       "      <th>V8</th>\n",
       "      <th>V9</th>\n",
       "      <th>...</th>\n",
       "      <th>V20</th>\n",
       "      <th>V21</th>\n",
       "      <th>V22</th>\n",
       "      <th>V23</th>\n",
       "      <th>V24</th>\n",
       "      <th>V25</th>\n",
       "      <th>V26</th>\n",
       "      <th>V27</th>\n",
       "      <th>V28</th>\n",
       "      <th>Amount</th>\n",
       "    </tr>\n",
       "    <tr>\n",
       "      <th>Class</th>\n",
       "      <th></th>\n",
       "      <th></th>\n",
       "      <th></th>\n",
       "      <th></th>\n",
       "      <th></th>\n",
       "      <th></th>\n",
       "      <th></th>\n",
       "      <th></th>\n",
       "      <th></th>\n",
       "      <th></th>\n",
       "      <th></th>\n",
       "      <th></th>\n",
       "      <th></th>\n",
       "      <th></th>\n",
       "      <th></th>\n",
       "      <th></th>\n",
       "      <th></th>\n",
       "      <th></th>\n",
       "      <th></th>\n",
       "      <th></th>\n",
       "      <th></th>\n",
       "    </tr>\n",
       "  </thead>\n",
       "  <tbody>\n",
       "    <tr>\n",
       "      <th>0</th>\n",
       "      <td>94838.202258</td>\n",
       "      <td>0.008258</td>\n",
       "      <td>-0.006271</td>\n",
       "      <td>0.012171</td>\n",
       "      <td>-0.007860</td>\n",
       "      <td>0.005453</td>\n",
       "      <td>0.002419</td>\n",
       "      <td>0.009637</td>\n",
       "      <td>-0.000987</td>\n",
       "      <td>0.004467</td>\n",
       "      <td>...</td>\n",
       "      <td>-0.000644</td>\n",
       "      <td>-0.001235</td>\n",
       "      <td>-0.000024</td>\n",
       "      <td>0.000070</td>\n",
       "      <td>0.000182</td>\n",
       "      <td>-0.000072</td>\n",
       "      <td>-0.000089</td>\n",
       "      <td>-0.000295</td>\n",
       "      <td>-0.000131</td>\n",
       "      <td>88.291022</td>\n",
       "    </tr>\n",
       "    <tr>\n",
       "      <th>1</th>\n",
       "      <td>80746.806911</td>\n",
       "      <td>-4.771948</td>\n",
       "      <td>3.623778</td>\n",
       "      <td>-7.033281</td>\n",
       "      <td>4.542029</td>\n",
       "      <td>-3.151225</td>\n",
       "      <td>-1.397737</td>\n",
       "      <td>-5.568731</td>\n",
       "      <td>0.570636</td>\n",
       "      <td>-2.581123</td>\n",
       "      <td>...</td>\n",
       "      <td>0.372319</td>\n",
       "      <td>0.713588</td>\n",
       "      <td>0.014049</td>\n",
       "      <td>-0.040308</td>\n",
       "      <td>-0.105130</td>\n",
       "      <td>0.041449</td>\n",
       "      <td>0.051648</td>\n",
       "      <td>0.170575</td>\n",
       "      <td>0.075667</td>\n",
       "      <td>122.211321</td>\n",
       "    </tr>\n",
       "  </tbody>\n",
       "</table>\n",
       "<p>2 rows × 30 columns</p>\n",
       "</div>"
      ],
      "text/plain": [
       "               Time        V1        V2        V3        V4        V5  \\\n",
       "Class                                                                   \n",
       "0      94838.202258  0.008258 -0.006271  0.012171 -0.007860  0.005453   \n",
       "1      80746.806911 -4.771948  3.623778 -7.033281  4.542029 -3.151225   \n",
       "\n",
       "             V6        V7        V8        V9  ...       V20       V21  \\\n",
       "Class                                          ...                       \n",
       "0      0.002419  0.009637 -0.000987  0.004467  ... -0.000644 -0.001235   \n",
       "1     -1.397737 -5.568731  0.570636 -2.581123  ...  0.372319  0.713588   \n",
       "\n",
       "            V22       V23       V24       V25       V26       V27       V28  \\\n",
       "Class                                                                         \n",
       "0     -0.000024  0.000070  0.000182 -0.000072 -0.000089 -0.000295 -0.000131   \n",
       "1      0.014049 -0.040308 -0.105130  0.041449  0.051648  0.170575  0.075667   \n",
       "\n",
       "           Amount  \n",
       "Class              \n",
       "0       88.291022  \n",
       "1      122.211321  \n",
       "\n",
       "[2 rows x 30 columns]"
      ]
     },
     "execution_count": 13,
     "metadata": {},
     "output_type": "execute_result"
    }
   ],
   "source": [
    "df.groupby(\"Class\").mean()"
   ]
  },
  {
   "cell_type": "code",
   "execution_count": 14,
   "id": "e7534597",
   "metadata": {
    "execution": {
     "iopub.execute_input": "2025-07-08T04:12:46.151728Z",
     "iopub.status.busy": "2025-07-08T04:12:46.150855Z",
     "iopub.status.idle": "2025-07-08T04:12:46.164233Z",
     "shell.execute_reply": "2025-07-08T04:12:46.163429Z"
    },
    "papermill": {
     "duration": 0.021634,
     "end_time": "2025-07-08T04:12:46.165872",
     "exception": false,
     "start_time": "2025-07-08T04:12:46.144238",
     "status": "completed"
    },
    "tags": []
   },
   "outputs": [],
   "source": [
    "legit_sample=legit.sample(n=492)"
   ]
  },
  {
   "cell_type": "code",
   "execution_count": 15,
   "id": "0ee64856",
   "metadata": {
    "execution": {
     "iopub.execute_input": "2025-07-08T04:12:46.178928Z",
     "iopub.status.busy": "2025-07-08T04:12:46.178338Z",
     "iopub.status.idle": "2025-07-08T04:12:46.182919Z",
     "shell.execute_reply": "2025-07-08T04:12:46.182218Z"
    },
    "papermill": {
     "duration": 0.012478,
     "end_time": "2025-07-08T04:12:46.184274",
     "exception": false,
     "start_time": "2025-07-08T04:12:46.171796",
     "status": "completed"
    },
    "tags": []
   },
   "outputs": [],
   "source": [
    "new_df=pd.concat([legit_sample,fraud],axis=0)"
   ]
  },
  {
   "cell_type": "code",
   "execution_count": 16,
   "id": "79a9f8da",
   "metadata": {
    "execution": {
     "iopub.execute_input": "2025-07-08T04:12:46.196873Z",
     "iopub.status.busy": "2025-07-08T04:12:46.196583Z",
     "iopub.status.idle": "2025-07-08T04:12:46.214787Z",
     "shell.execute_reply": "2025-07-08T04:12:46.214111Z"
    },
    "papermill": {
     "duration": 0.02611,
     "end_time": "2025-07-08T04:12:46.216205",
     "exception": false,
     "start_time": "2025-07-08T04:12:46.190095",
     "status": "completed"
    },
    "tags": []
   },
   "outputs": [
    {
     "data": {
      "text/html": [
       "<div>\n",
       "<style scoped>\n",
       "    .dataframe tbody tr th:only-of-type {\n",
       "        vertical-align: middle;\n",
       "    }\n",
       "\n",
       "    .dataframe tbody tr th {\n",
       "        vertical-align: top;\n",
       "    }\n",
       "\n",
       "    .dataframe thead th {\n",
       "        text-align: right;\n",
       "    }\n",
       "</style>\n",
       "<table border=\"1\" class=\"dataframe\">\n",
       "  <thead>\n",
       "    <tr style=\"text-align: right;\">\n",
       "      <th></th>\n",
       "      <th>Time</th>\n",
       "      <th>V1</th>\n",
       "      <th>V2</th>\n",
       "      <th>V3</th>\n",
       "      <th>V4</th>\n",
       "      <th>V5</th>\n",
       "      <th>V6</th>\n",
       "      <th>V7</th>\n",
       "      <th>V8</th>\n",
       "      <th>V9</th>\n",
       "      <th>...</th>\n",
       "      <th>V21</th>\n",
       "      <th>V22</th>\n",
       "      <th>V23</th>\n",
       "      <th>V24</th>\n",
       "      <th>V25</th>\n",
       "      <th>V26</th>\n",
       "      <th>V27</th>\n",
       "      <th>V28</th>\n",
       "      <th>Amount</th>\n",
       "      <th>Class</th>\n",
       "    </tr>\n",
       "  </thead>\n",
       "  <tbody>\n",
       "    <tr>\n",
       "      <th>276931</th>\n",
       "      <td>167364.0</td>\n",
       "      <td>0.154620</td>\n",
       "      <td>0.058620</td>\n",
       "      <td>0.159106</td>\n",
       "      <td>-1.273098</td>\n",
       "      <td>-0.103838</td>\n",
       "      <td>-0.854176</td>\n",
       "      <td>0.899532</td>\n",
       "      <td>-0.329376</td>\n",
       "      <td>-1.270480</td>\n",
       "      <td>...</td>\n",
       "      <td>-0.498912</td>\n",
       "      <td>-0.965380</td>\n",
       "      <td>0.241056</td>\n",
       "      <td>-0.128594</td>\n",
       "      <td>-0.513126</td>\n",
       "      <td>0.319654</td>\n",
       "      <td>-0.002899</td>\n",
       "      <td>0.040526</td>\n",
       "      <td>74.96</td>\n",
       "      <td>0</td>\n",
       "    </tr>\n",
       "    <tr>\n",
       "      <th>226785</th>\n",
       "      <td>144800.0</td>\n",
       "      <td>-0.301246</td>\n",
       "      <td>1.290035</td>\n",
       "      <td>-0.621751</td>\n",
       "      <td>-0.271311</td>\n",
       "      <td>0.539618</td>\n",
       "      <td>-1.412825</td>\n",
       "      <td>1.103649</td>\n",
       "      <td>-0.502292</td>\n",
       "      <td>0.813603</td>\n",
       "      <td>...</td>\n",
       "      <td>0.202840</td>\n",
       "      <td>0.854952</td>\n",
       "      <td>-0.190656</td>\n",
       "      <td>-0.082490</td>\n",
       "      <td>-0.396970</td>\n",
       "      <td>-0.198193</td>\n",
       "      <td>-0.089916</td>\n",
       "      <td>0.032003</td>\n",
       "      <td>9.99</td>\n",
       "      <td>0</td>\n",
       "    </tr>\n",
       "    <tr>\n",
       "      <th>199229</th>\n",
       "      <td>132861.0</td>\n",
       "      <td>-0.406874</td>\n",
       "      <td>-1.183948</td>\n",
       "      <td>-0.219258</td>\n",
       "      <td>-3.778309</td>\n",
       "      <td>0.559776</td>\n",
       "      <td>4.097192</td>\n",
       "      <td>-1.650864</td>\n",
       "      <td>1.604186</td>\n",
       "      <td>-1.664367</td>\n",
       "      <td>...</td>\n",
       "      <td>0.025446</td>\n",
       "      <td>0.045437</td>\n",
       "      <td>0.289761</td>\n",
       "      <td>0.645736</td>\n",
       "      <td>-0.181375</td>\n",
       "      <td>-0.298838</td>\n",
       "      <td>-0.102204</td>\n",
       "      <td>-0.113470</td>\n",
       "      <td>100.38</td>\n",
       "      <td>0</td>\n",
       "    </tr>\n",
       "    <tr>\n",
       "      <th>276201</th>\n",
       "      <td>166950.0</td>\n",
       "      <td>1.985762</td>\n",
       "      <td>-0.332453</td>\n",
       "      <td>-0.265697</td>\n",
       "      <td>0.487491</td>\n",
       "      <td>-0.659826</td>\n",
       "      <td>-0.511851</td>\n",
       "      <td>-0.527851</td>\n",
       "      <td>-0.116684</td>\n",
       "      <td>1.317009</td>\n",
       "      <td>...</td>\n",
       "      <td>0.196705</td>\n",
       "      <td>0.879653</td>\n",
       "      <td>0.088075</td>\n",
       "      <td>-0.055615</td>\n",
       "      <td>-0.041105</td>\n",
       "      <td>-0.209667</td>\n",
       "      <td>0.048584</td>\n",
       "      <td>-0.035429</td>\n",
       "      <td>9.99</td>\n",
       "      <td>0</td>\n",
       "    </tr>\n",
       "    <tr>\n",
       "      <th>265230</th>\n",
       "      <td>161793.0</td>\n",
       "      <td>2.233282</td>\n",
       "      <td>-0.824316</td>\n",
       "      <td>-1.722121</td>\n",
       "      <td>-1.083369</td>\n",
       "      <td>-0.195394</td>\n",
       "      <td>-0.801189</td>\n",
       "      <td>-0.331712</td>\n",
       "      <td>-0.361753</td>\n",
       "      <td>-0.430325</td>\n",
       "      <td>...</td>\n",
       "      <td>0.398664</td>\n",
       "      <td>1.112329</td>\n",
       "      <td>-0.170321</td>\n",
       "      <td>-0.938568</td>\n",
       "      <td>0.317739</td>\n",
       "      <td>0.134307</td>\n",
       "      <td>-0.042766</td>\n",
       "      <td>-0.069334</td>\n",
       "      <td>45.85</td>\n",
       "      <td>0</td>\n",
       "    </tr>\n",
       "  </tbody>\n",
       "</table>\n",
       "<p>5 rows × 31 columns</p>\n",
       "</div>"
      ],
      "text/plain": [
       "            Time        V1        V2        V3        V4        V5        V6  \\\n",
       "276931  167364.0  0.154620  0.058620  0.159106 -1.273098 -0.103838 -0.854176   \n",
       "226785  144800.0 -0.301246  1.290035 -0.621751 -0.271311  0.539618 -1.412825   \n",
       "199229  132861.0 -0.406874 -1.183948 -0.219258 -3.778309  0.559776  4.097192   \n",
       "276201  166950.0  1.985762 -0.332453 -0.265697  0.487491 -0.659826 -0.511851   \n",
       "265230  161793.0  2.233282 -0.824316 -1.722121 -1.083369 -0.195394 -0.801189   \n",
       "\n",
       "              V7        V8        V9  ...       V21       V22       V23  \\\n",
       "276931  0.899532 -0.329376 -1.270480  ... -0.498912 -0.965380  0.241056   \n",
       "226785  1.103649 -0.502292  0.813603  ...  0.202840  0.854952 -0.190656   \n",
       "199229 -1.650864  1.604186 -1.664367  ...  0.025446  0.045437  0.289761   \n",
       "276201 -0.527851 -0.116684  1.317009  ...  0.196705  0.879653  0.088075   \n",
       "265230 -0.331712 -0.361753 -0.430325  ...  0.398664  1.112329 -0.170321   \n",
       "\n",
       "             V24       V25       V26       V27       V28  Amount  Class  \n",
       "276931 -0.128594 -0.513126  0.319654 -0.002899  0.040526   74.96      0  \n",
       "226785 -0.082490 -0.396970 -0.198193 -0.089916  0.032003    9.99      0  \n",
       "199229  0.645736 -0.181375 -0.298838 -0.102204 -0.113470  100.38      0  \n",
       "276201 -0.055615 -0.041105 -0.209667  0.048584 -0.035429    9.99      0  \n",
       "265230 -0.938568  0.317739  0.134307 -0.042766 -0.069334   45.85      0  \n",
       "\n",
       "[5 rows x 31 columns]"
      ]
     },
     "execution_count": 16,
     "metadata": {},
     "output_type": "execute_result"
    }
   ],
   "source": [
    "new_df.head()"
   ]
  },
  {
   "cell_type": "code",
   "execution_count": 17,
   "id": "524db1f9",
   "metadata": {
    "execution": {
     "iopub.execute_input": "2025-07-08T04:12:46.229742Z",
     "iopub.status.busy": "2025-07-08T04:12:46.229478Z",
     "iopub.status.idle": "2025-07-08T04:12:46.247552Z",
     "shell.execute_reply": "2025-07-08T04:12:46.246753Z"
    },
    "papermill": {
     "duration": 0.026534,
     "end_time": "2025-07-08T04:12:46.248913",
     "exception": false,
     "start_time": "2025-07-08T04:12:46.222379",
     "status": "completed"
    },
    "tags": []
   },
   "outputs": [
    {
     "data": {
      "text/html": [
       "<div>\n",
       "<style scoped>\n",
       "    .dataframe tbody tr th:only-of-type {\n",
       "        vertical-align: middle;\n",
       "    }\n",
       "\n",
       "    .dataframe tbody tr th {\n",
       "        vertical-align: top;\n",
       "    }\n",
       "\n",
       "    .dataframe thead th {\n",
       "        text-align: right;\n",
       "    }\n",
       "</style>\n",
       "<table border=\"1\" class=\"dataframe\">\n",
       "  <thead>\n",
       "    <tr style=\"text-align: right;\">\n",
       "      <th></th>\n",
       "      <th>Time</th>\n",
       "      <th>V1</th>\n",
       "      <th>V2</th>\n",
       "      <th>V3</th>\n",
       "      <th>V4</th>\n",
       "      <th>V5</th>\n",
       "      <th>V6</th>\n",
       "      <th>V7</th>\n",
       "      <th>V8</th>\n",
       "      <th>V9</th>\n",
       "      <th>...</th>\n",
       "      <th>V21</th>\n",
       "      <th>V22</th>\n",
       "      <th>V23</th>\n",
       "      <th>V24</th>\n",
       "      <th>V25</th>\n",
       "      <th>V26</th>\n",
       "      <th>V27</th>\n",
       "      <th>V28</th>\n",
       "      <th>Amount</th>\n",
       "      <th>Class</th>\n",
       "    </tr>\n",
       "  </thead>\n",
       "  <tbody>\n",
       "    <tr>\n",
       "      <th>279863</th>\n",
       "      <td>169142.0</td>\n",
       "      <td>-1.927883</td>\n",
       "      <td>1.125653</td>\n",
       "      <td>-4.518331</td>\n",
       "      <td>1.749293</td>\n",
       "      <td>-1.566487</td>\n",
       "      <td>-2.010494</td>\n",
       "      <td>-0.882850</td>\n",
       "      <td>0.697211</td>\n",
       "      <td>-2.064945</td>\n",
       "      <td>...</td>\n",
       "      <td>0.778584</td>\n",
       "      <td>-0.319189</td>\n",
       "      <td>0.639419</td>\n",
       "      <td>-0.294885</td>\n",
       "      <td>0.537503</td>\n",
       "      <td>0.788395</td>\n",
       "      <td>0.292680</td>\n",
       "      <td>0.147968</td>\n",
       "      <td>390.00</td>\n",
       "      <td>1</td>\n",
       "    </tr>\n",
       "    <tr>\n",
       "      <th>280143</th>\n",
       "      <td>169347.0</td>\n",
       "      <td>1.378559</td>\n",
       "      <td>1.289381</td>\n",
       "      <td>-5.004247</td>\n",
       "      <td>1.411850</td>\n",
       "      <td>0.442581</td>\n",
       "      <td>-1.326536</td>\n",
       "      <td>-1.413170</td>\n",
       "      <td>0.248525</td>\n",
       "      <td>-1.127396</td>\n",
       "      <td>...</td>\n",
       "      <td>0.370612</td>\n",
       "      <td>0.028234</td>\n",
       "      <td>-0.145640</td>\n",
       "      <td>-0.081049</td>\n",
       "      <td>0.521875</td>\n",
       "      <td>0.739467</td>\n",
       "      <td>0.389152</td>\n",
       "      <td>0.186637</td>\n",
       "      <td>0.76</td>\n",
       "      <td>1</td>\n",
       "    </tr>\n",
       "    <tr>\n",
       "      <th>280149</th>\n",
       "      <td>169351.0</td>\n",
       "      <td>-0.676143</td>\n",
       "      <td>1.126366</td>\n",
       "      <td>-2.213700</td>\n",
       "      <td>0.468308</td>\n",
       "      <td>-1.120541</td>\n",
       "      <td>-0.003346</td>\n",
       "      <td>-2.234739</td>\n",
       "      <td>1.210158</td>\n",
       "      <td>-0.652250</td>\n",
       "      <td>...</td>\n",
       "      <td>0.751826</td>\n",
       "      <td>0.834108</td>\n",
       "      <td>0.190944</td>\n",
       "      <td>0.032070</td>\n",
       "      <td>-0.739695</td>\n",
       "      <td>0.471111</td>\n",
       "      <td>0.385107</td>\n",
       "      <td>0.194361</td>\n",
       "      <td>77.89</td>\n",
       "      <td>1</td>\n",
       "    </tr>\n",
       "    <tr>\n",
       "      <th>281144</th>\n",
       "      <td>169966.0</td>\n",
       "      <td>-3.113832</td>\n",
       "      <td>0.585864</td>\n",
       "      <td>-5.399730</td>\n",
       "      <td>1.817092</td>\n",
       "      <td>-0.840618</td>\n",
       "      <td>-2.943548</td>\n",
       "      <td>-2.208002</td>\n",
       "      <td>1.058733</td>\n",
       "      <td>-1.632333</td>\n",
       "      <td>...</td>\n",
       "      <td>0.583276</td>\n",
       "      <td>-0.269209</td>\n",
       "      <td>-0.456108</td>\n",
       "      <td>-0.183659</td>\n",
       "      <td>-0.328168</td>\n",
       "      <td>0.606116</td>\n",
       "      <td>0.884876</td>\n",
       "      <td>-0.253700</td>\n",
       "      <td>245.00</td>\n",
       "      <td>1</td>\n",
       "    </tr>\n",
       "    <tr>\n",
       "      <th>281674</th>\n",
       "      <td>170348.0</td>\n",
       "      <td>1.991976</td>\n",
       "      <td>0.158476</td>\n",
       "      <td>-2.583441</td>\n",
       "      <td>0.408670</td>\n",
       "      <td>1.151147</td>\n",
       "      <td>-0.096695</td>\n",
       "      <td>0.223050</td>\n",
       "      <td>-0.068384</td>\n",
       "      <td>0.577829</td>\n",
       "      <td>...</td>\n",
       "      <td>-0.164350</td>\n",
       "      <td>-0.295135</td>\n",
       "      <td>-0.072173</td>\n",
       "      <td>-0.450261</td>\n",
       "      <td>0.313267</td>\n",
       "      <td>-0.289617</td>\n",
       "      <td>0.002988</td>\n",
       "      <td>-0.015309</td>\n",
       "      <td>42.53</td>\n",
       "      <td>1</td>\n",
       "    </tr>\n",
       "  </tbody>\n",
       "</table>\n",
       "<p>5 rows × 31 columns</p>\n",
       "</div>"
      ],
      "text/plain": [
       "            Time        V1        V2        V3        V4        V5        V6  \\\n",
       "279863  169142.0 -1.927883  1.125653 -4.518331  1.749293 -1.566487 -2.010494   \n",
       "280143  169347.0  1.378559  1.289381 -5.004247  1.411850  0.442581 -1.326536   \n",
       "280149  169351.0 -0.676143  1.126366 -2.213700  0.468308 -1.120541 -0.003346   \n",
       "281144  169966.0 -3.113832  0.585864 -5.399730  1.817092 -0.840618 -2.943548   \n",
       "281674  170348.0  1.991976  0.158476 -2.583441  0.408670  1.151147 -0.096695   \n",
       "\n",
       "              V7        V8        V9  ...       V21       V22       V23  \\\n",
       "279863 -0.882850  0.697211 -2.064945  ...  0.778584 -0.319189  0.639419   \n",
       "280143 -1.413170  0.248525 -1.127396  ...  0.370612  0.028234 -0.145640   \n",
       "280149 -2.234739  1.210158 -0.652250  ...  0.751826  0.834108  0.190944   \n",
       "281144 -2.208002  1.058733 -1.632333  ...  0.583276 -0.269209 -0.456108   \n",
       "281674  0.223050 -0.068384  0.577829  ... -0.164350 -0.295135 -0.072173   \n",
       "\n",
       "             V24       V25       V26       V27       V28  Amount  Class  \n",
       "279863 -0.294885  0.537503  0.788395  0.292680  0.147968  390.00      1  \n",
       "280143 -0.081049  0.521875  0.739467  0.389152  0.186637    0.76      1  \n",
       "280149  0.032070 -0.739695  0.471111  0.385107  0.194361   77.89      1  \n",
       "281144 -0.183659 -0.328168  0.606116  0.884876 -0.253700  245.00      1  \n",
       "281674 -0.450261  0.313267 -0.289617  0.002988 -0.015309   42.53      1  \n",
       "\n",
       "[5 rows x 31 columns]"
      ]
     },
     "execution_count": 17,
     "metadata": {},
     "output_type": "execute_result"
    }
   ],
   "source": [
    "new_df.tail()"
   ]
  },
  {
   "cell_type": "code",
   "execution_count": 18,
   "id": "9c441819",
   "metadata": {
    "execution": {
     "iopub.execute_input": "2025-07-08T04:12:46.263318Z",
     "iopub.status.busy": "2025-07-08T04:12:46.262667Z",
     "iopub.status.idle": "2025-07-08T04:12:46.268202Z",
     "shell.execute_reply": "2025-07-08T04:12:46.267415Z"
    },
    "papermill": {
     "duration": 0.013919,
     "end_time": "2025-07-08T04:12:46.269459",
     "exception": false,
     "start_time": "2025-07-08T04:12:46.255540",
     "status": "completed"
    },
    "tags": []
   },
   "outputs": [
    {
     "data": {
      "text/plain": [
       "(984, 31)"
      ]
     },
     "execution_count": 18,
     "metadata": {},
     "output_type": "execute_result"
    }
   ],
   "source": [
    "new_df.shape"
   ]
  },
  {
   "cell_type": "code",
   "execution_count": 19,
   "id": "9a9b001f",
   "metadata": {
    "execution": {
     "iopub.execute_input": "2025-07-08T04:12:46.283679Z",
     "iopub.status.busy": "2025-07-08T04:12:46.282954Z",
     "iopub.status.idle": "2025-07-08T04:12:46.289315Z",
     "shell.execute_reply": "2025-07-08T04:12:46.288617Z"
    },
    "papermill": {
     "duration": 0.014967,
     "end_time": "2025-07-08T04:12:46.290735",
     "exception": false,
     "start_time": "2025-07-08T04:12:46.275768",
     "status": "completed"
    },
    "tags": []
   },
   "outputs": [
    {
     "data": {
      "text/plain": [
       "Class\n",
       "0    492\n",
       "1    492\n",
       "Name: count, dtype: int64"
      ]
     },
     "execution_count": 19,
     "metadata": {},
     "output_type": "execute_result"
    }
   ],
   "source": [
    "new_df['Class'].value_counts()"
   ]
  },
  {
   "cell_type": "code",
   "execution_count": 20,
   "id": "de0c0ec9",
   "metadata": {
    "execution": {
     "iopub.execute_input": "2025-07-08T04:12:46.304782Z",
     "iopub.status.busy": "2025-07-08T04:12:46.304192Z",
     "iopub.status.idle": "2025-07-08T04:12:46.323153Z",
     "shell.execute_reply": "2025-07-08T04:12:46.322316Z"
    },
    "papermill": {
     "duration": 0.027474,
     "end_time": "2025-07-08T04:12:46.324595",
     "exception": false,
     "start_time": "2025-07-08T04:12:46.297121",
     "status": "completed"
    },
    "tags": []
   },
   "outputs": [
    {
     "data": {
      "text/html": [
       "<div>\n",
       "<style scoped>\n",
       "    .dataframe tbody tr th:only-of-type {\n",
       "        vertical-align: middle;\n",
       "    }\n",
       "\n",
       "    .dataframe tbody tr th {\n",
       "        vertical-align: top;\n",
       "    }\n",
       "\n",
       "    .dataframe thead th {\n",
       "        text-align: right;\n",
       "    }\n",
       "</style>\n",
       "<table border=\"1\" class=\"dataframe\">\n",
       "  <thead>\n",
       "    <tr style=\"text-align: right;\">\n",
       "      <th></th>\n",
       "      <th>Time</th>\n",
       "      <th>V1</th>\n",
       "      <th>V2</th>\n",
       "      <th>V3</th>\n",
       "      <th>V4</th>\n",
       "      <th>V5</th>\n",
       "      <th>V6</th>\n",
       "      <th>V7</th>\n",
       "      <th>V8</th>\n",
       "      <th>V9</th>\n",
       "      <th>...</th>\n",
       "      <th>V20</th>\n",
       "      <th>V21</th>\n",
       "      <th>V22</th>\n",
       "      <th>V23</th>\n",
       "      <th>V24</th>\n",
       "      <th>V25</th>\n",
       "      <th>V26</th>\n",
       "      <th>V27</th>\n",
       "      <th>V28</th>\n",
       "      <th>Amount</th>\n",
       "    </tr>\n",
       "    <tr>\n",
       "      <th>Class</th>\n",
       "      <th></th>\n",
       "      <th></th>\n",
       "      <th></th>\n",
       "      <th></th>\n",
       "      <th></th>\n",
       "      <th></th>\n",
       "      <th></th>\n",
       "      <th></th>\n",
       "      <th></th>\n",
       "      <th></th>\n",
       "      <th></th>\n",
       "      <th></th>\n",
       "      <th></th>\n",
       "      <th></th>\n",
       "      <th></th>\n",
       "      <th></th>\n",
       "      <th></th>\n",
       "      <th></th>\n",
       "      <th></th>\n",
       "      <th></th>\n",
       "      <th></th>\n",
       "    </tr>\n",
       "  </thead>\n",
       "  <tbody>\n",
       "    <tr>\n",
       "      <th>0</th>\n",
       "      <td>99790.953252</td>\n",
       "      <td>-0.147053</td>\n",
       "      <td>0.112474</td>\n",
       "      <td>-0.151869</td>\n",
       "      <td>-0.118887</td>\n",
       "      <td>-0.003359</td>\n",
       "      <td>-0.061204</td>\n",
       "      <td>0.046784</td>\n",
       "      <td>0.034608</td>\n",
       "      <td>-0.010977</td>\n",
       "      <td>...</td>\n",
       "      <td>-0.076535</td>\n",
       "      <td>-0.000171</td>\n",
       "      <td>-0.044853</td>\n",
       "      <td>0.011147</td>\n",
       "      <td>-0.029285</td>\n",
       "      <td>0.051118</td>\n",
       "      <td>-0.007005</td>\n",
       "      <td>-0.004163</td>\n",
       "      <td>0.017405</td>\n",
       "      <td>73.338720</td>\n",
       "    </tr>\n",
       "    <tr>\n",
       "      <th>1</th>\n",
       "      <td>80746.806911</td>\n",
       "      <td>-4.771948</td>\n",
       "      <td>3.623778</td>\n",
       "      <td>-7.033281</td>\n",
       "      <td>4.542029</td>\n",
       "      <td>-3.151225</td>\n",
       "      <td>-1.397737</td>\n",
       "      <td>-5.568731</td>\n",
       "      <td>0.570636</td>\n",
       "      <td>-2.581123</td>\n",
       "      <td>...</td>\n",
       "      <td>0.372319</td>\n",
       "      <td>0.713588</td>\n",
       "      <td>0.014049</td>\n",
       "      <td>-0.040308</td>\n",
       "      <td>-0.105130</td>\n",
       "      <td>0.041449</td>\n",
       "      <td>0.051648</td>\n",
       "      <td>0.170575</td>\n",
       "      <td>0.075667</td>\n",
       "      <td>122.211321</td>\n",
       "    </tr>\n",
       "  </tbody>\n",
       "</table>\n",
       "<p>2 rows × 30 columns</p>\n",
       "</div>"
      ],
      "text/plain": [
       "               Time        V1        V2        V3        V4        V5  \\\n",
       "Class                                                                   \n",
       "0      99790.953252 -0.147053  0.112474 -0.151869 -0.118887 -0.003359   \n",
       "1      80746.806911 -4.771948  3.623778 -7.033281  4.542029 -3.151225   \n",
       "\n",
       "             V6        V7        V8        V9  ...       V20       V21  \\\n",
       "Class                                          ...                       \n",
       "0     -0.061204  0.046784  0.034608 -0.010977  ... -0.076535 -0.000171   \n",
       "1     -1.397737 -5.568731  0.570636 -2.581123  ...  0.372319  0.713588   \n",
       "\n",
       "            V22       V23       V24       V25       V26       V27       V28  \\\n",
       "Class                                                                         \n",
       "0     -0.044853  0.011147 -0.029285  0.051118 -0.007005 -0.004163  0.017405   \n",
       "1      0.014049 -0.040308 -0.105130  0.041449  0.051648  0.170575  0.075667   \n",
       "\n",
       "           Amount  \n",
       "Class              \n",
       "0       73.338720  \n",
       "1      122.211321  \n",
       "\n",
       "[2 rows x 30 columns]"
      ]
     },
     "execution_count": 20,
     "metadata": {},
     "output_type": "execute_result"
    }
   ],
   "source": [
    "new_df.groupby('Class').mean()"
   ]
  },
  {
   "cell_type": "code",
   "execution_count": 21,
   "id": "65f098b4",
   "metadata": {
    "execution": {
     "iopub.execute_input": "2025-07-08T04:12:46.338866Z",
     "iopub.status.busy": "2025-07-08T04:12:46.338535Z",
     "iopub.status.idle": "2025-07-08T04:12:46.343551Z",
     "shell.execute_reply": "2025-07-08T04:12:46.342746Z"
    },
    "papermill": {
     "duration": 0.013634,
     "end_time": "2025-07-08T04:12:46.344849",
     "exception": false,
     "start_time": "2025-07-08T04:12:46.331215",
     "status": "completed"
    },
    "tags": []
   },
   "outputs": [],
   "source": [
    "x=new_df.drop(columns='Class',axis=1)\n",
    "y=new_df['Class']"
   ]
  },
  {
   "cell_type": "code",
   "execution_count": 22,
   "id": "7c28f373",
   "metadata": {
    "execution": {
     "iopub.execute_input": "2025-07-08T04:12:46.359114Z",
     "iopub.status.busy": "2025-07-08T04:12:46.358805Z",
     "iopub.status.idle": "2025-07-08T04:12:46.366334Z",
     "shell.execute_reply": "2025-07-08T04:12:46.365680Z"
    },
    "papermill": {
     "duration": 0.016256,
     "end_time": "2025-07-08T04:12:46.367663",
     "exception": false,
     "start_time": "2025-07-08T04:12:46.351407",
     "status": "completed"
    },
    "tags": []
   },
   "outputs": [],
   "source": [
    "x_train,x_test,y_train,y_test=train_test_split(x,y,test_size=0.2,stratify=y,random_state=2)"
   ]
  },
  {
   "cell_type": "code",
   "execution_count": 23,
   "id": "b700db8e",
   "metadata": {
    "execution": {
     "iopub.execute_input": "2025-07-08T04:12:46.382280Z",
     "iopub.status.busy": "2025-07-08T04:12:46.381525Z",
     "iopub.status.idle": "2025-07-08T04:12:46.386193Z",
     "shell.execute_reply": "2025-07-08T04:12:46.385357Z"
    },
    "papermill": {
     "duration": 0.01349,
     "end_time": "2025-07-08T04:12:46.387646",
     "exception": false,
     "start_time": "2025-07-08T04:12:46.374156",
     "status": "completed"
    },
    "tags": []
   },
   "outputs": [
    {
     "name": "stdout",
     "output_type": "stream",
     "text": [
      "(787, 30) (197, 30)\n"
     ]
    }
   ],
   "source": [
    "print(x_train.shape,x_test.shape)"
   ]
  },
  {
   "cell_type": "code",
   "execution_count": 24,
   "id": "1dc4a634",
   "metadata": {
    "execution": {
     "iopub.execute_input": "2025-07-08T04:12:46.402772Z",
     "iopub.status.busy": "2025-07-08T04:12:46.402026Z",
     "iopub.status.idle": "2025-07-08T04:12:46.886385Z",
     "shell.execute_reply": "2025-07-08T04:12:46.885635Z"
    },
    "papermill": {
     "duration": 0.493799,
     "end_time": "2025-07-08T04:12:46.888192",
     "exception": false,
     "start_time": "2025-07-08T04:12:46.394393",
     "status": "completed"
    },
    "tags": []
   },
   "outputs": [
    {
     "name": "stderr",
     "output_type": "stream",
     "text": [
      "/usr/local/lib/python3.11/dist-packages/sklearn/linear_model/_logistic.py:458: ConvergenceWarning: lbfgs failed to converge (status=1):\n",
      "STOP: TOTAL NO. OF ITERATIONS REACHED LIMIT.\n",
      "\n",
      "Increase the number of iterations (max_iter) or scale the data as shown in:\n",
      "    https://scikit-learn.org/stable/modules/preprocessing.html\n",
      "Please also refer to the documentation for alternative solver options:\n",
      "    https://scikit-learn.org/stable/modules/linear_model.html#logistic-regression\n",
      "  n_iter_i = _check_optimize_result(\n"
     ]
    }
   ],
   "source": [
    "lr=LogisticRegression()\n",
    "lr.fit(x_train,y_train)\n",
    "y_pred=lr.predict(x_test)"
   ]
  },
  {
   "cell_type": "code",
   "execution_count": 25,
   "id": "50f1a04c",
   "metadata": {
    "execution": {
     "iopub.execute_input": "2025-07-08T04:12:46.913118Z",
     "iopub.status.busy": "2025-07-08T04:12:46.911555Z",
     "iopub.status.idle": "2025-07-08T04:12:46.920786Z",
     "shell.execute_reply": "2025-07-08T04:12:46.920147Z"
    },
    "papermill": {
     "duration": 0.023115,
     "end_time": "2025-07-08T04:12:46.922436",
     "exception": false,
     "start_time": "2025-07-08T04:12:46.899321",
     "status": "completed"
    },
    "tags": []
   },
   "outputs": [
    {
     "data": {
      "text/plain": [
       "0.9187817258883249"
      ]
     },
     "execution_count": 25,
     "metadata": {},
     "output_type": "execute_result"
    }
   ],
   "source": [
    "accuracy_score(y_test,y_pred)"
   ]
  },
  {
   "cell_type": "code",
   "execution_count": 26,
   "id": "449ef65d",
   "metadata": {
    "execution": {
     "iopub.execute_input": "2025-07-08T04:12:46.948524Z",
     "iopub.status.busy": "2025-07-08T04:12:46.946824Z",
     "iopub.status.idle": "2025-07-08T04:12:46.957682Z",
     "shell.execute_reply": "2025-07-08T04:12:46.957012Z"
    },
    "papermill": {
     "duration": 0.02527,
     "end_time": "2025-07-08T04:12:46.959429",
     "exception": false,
     "start_time": "2025-07-08T04:12:46.934159",
     "status": "completed"
    },
    "tags": []
   },
   "outputs": [
    {
     "data": {
      "text/plain": [
       "array([[95,  4],\n",
       "       [12, 86]])"
      ]
     },
     "execution_count": 26,
     "metadata": {},
     "output_type": "execute_result"
    }
   ],
   "source": [
    "confusion_matrix(y_test,y_pred)"
   ]
  },
  {
   "cell_type": "code",
   "execution_count": 27,
   "id": "89c84a42",
   "metadata": {
    "execution": {
     "iopub.execute_input": "2025-07-08T04:12:46.985301Z",
     "iopub.status.busy": "2025-07-08T04:12:46.983550Z",
     "iopub.status.idle": "2025-07-08T04:12:46.998902Z",
     "shell.execute_reply": "2025-07-08T04:12:46.998020Z"
    },
    "papermill": {
     "duration": 0.029397,
     "end_time": "2025-07-08T04:12:47.000599",
     "exception": false,
     "start_time": "2025-07-08T04:12:46.971202",
     "status": "completed"
    },
    "tags": []
   },
   "outputs": [
    {
     "data": {
      "text/plain": [
       "'              precision    recall  f1-score   support\\n\\n           0       0.89      0.96      0.92        99\\n           1       0.96      0.88      0.91        98\\n\\n    accuracy                           0.92       197\\n   macro avg       0.92      0.92      0.92       197\\nweighted avg       0.92      0.92      0.92       197\\n'"
      ]
     },
     "execution_count": 27,
     "metadata": {},
     "output_type": "execute_result"
    }
   ],
   "source": [
    "classification_report(y_test,y_pred)"
   ]
  },
  {
   "cell_type": "code",
   "execution_count": null,
   "id": "4365b220",
   "metadata": {
    "papermill": {
     "duration": 0.006558,
     "end_time": "2025-07-08T04:12:47.014300",
     "exception": false,
     "start_time": "2025-07-08T04:12:47.007742",
     "status": "completed"
    },
    "tags": []
   },
   "outputs": [],
   "source": []
  }
 ],
 "metadata": {
  "kaggle": {
   "accelerator": "none",
   "dataSources": [
    {
     "datasetId": 310,
     "sourceId": 23498,
     "sourceType": "datasetVersion"
    }
   ],
   "dockerImageVersionId": 31040,
   "isGpuEnabled": false,
   "isInternetEnabled": true,
   "language": "python",
   "sourceType": "notebook"
  },
  "kernelspec": {
   "display_name": "Python 3",
   "language": "python",
   "name": "python3"
  },
  "language_info": {
   "codemirror_mode": {
    "name": "ipython",
    "version": 3
   },
   "file_extension": ".py",
   "mimetype": "text/x-python",
   "name": "python",
   "nbconvert_exporter": "python",
   "pygments_lexer": "ipython3",
   "version": "3.11.11"
  },
  "papermill": {
   "default_parameters": {},
   "duration": 14.210933,
   "end_time": "2025-07-08T04:12:47.640627",
   "environment_variables": {},
   "exception": null,
   "input_path": "__notebook__.ipynb",
   "output_path": "__notebook__.ipynb",
   "parameters": {},
   "start_time": "2025-07-08T04:12:33.429694",
   "version": "2.6.0"
  }
 },
 "nbformat": 4,
 "nbformat_minor": 5
}
